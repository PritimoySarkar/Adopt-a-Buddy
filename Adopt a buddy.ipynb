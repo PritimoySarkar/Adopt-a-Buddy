{
 "cells": [
  {
   "cell_type": "code",
   "execution_count": 1,
   "metadata": {},
   "outputs": [],
   "source": [
    "import pandas as pd\n",
    "import numpy as np\n",
    "import seaborn as sns\n",
    "import matplotlib.pyplot as plt\n",
    "from sklearn.utils import resample as rs\n",
    "from sklearn.model_selection import train_test_split as tts\n",
    "%matplotlib inline"
   ]
  },
  {
   "cell_type": "code",
   "execution_count": 2,
   "metadata": {},
   "outputs": [
    {
     "data": {
      "text/html": [
       "<div>\n",
       "<style scoped>\n",
       "    .dataframe tbody tr th:only-of-type {\n",
       "        vertical-align: middle;\n",
       "    }\n",
       "\n",
       "    .dataframe tbody tr th {\n",
       "        vertical-align: top;\n",
       "    }\n",
       "\n",
       "    .dataframe thead th {\n",
       "        text-align: right;\n",
       "    }\n",
       "</style>\n",
       "<table border=\"1\" class=\"dataframe\">\n",
       "  <thead>\n",
       "    <tr style=\"text-align: right;\">\n",
       "      <th></th>\n",
       "      <th>pet_id</th>\n",
       "      <th>issue_date</th>\n",
       "      <th>listing_date</th>\n",
       "      <th>condition</th>\n",
       "      <th>color_type</th>\n",
       "      <th>length(m)</th>\n",
       "      <th>height(cm)</th>\n",
       "      <th>X1</th>\n",
       "      <th>X2</th>\n",
       "      <th>breed_category</th>\n",
       "      <th>pet_category</th>\n",
       "    </tr>\n",
       "  </thead>\n",
       "  <tbody>\n",
       "    <tr>\n",
       "      <th>0</th>\n",
       "      <td>ANSL_69903</td>\n",
       "      <td>2016-07-10 00:00:00</td>\n",
       "      <td>2016-09-21 16:25:00</td>\n",
       "      <td>2.0</td>\n",
       "      <td>Brown Tabby</td>\n",
       "      <td>0.80</td>\n",
       "      <td>7.78</td>\n",
       "      <td>13</td>\n",
       "      <td>9</td>\n",
       "      <td>0.0</td>\n",
       "      <td>1</td>\n",
       "    </tr>\n",
       "    <tr>\n",
       "      <th>1</th>\n",
       "      <td>ANSL_66892</td>\n",
       "      <td>2013-11-21 00:00:00</td>\n",
       "      <td>2018-12-27 17:47:00</td>\n",
       "      <td>1.0</td>\n",
       "      <td>White</td>\n",
       "      <td>0.72</td>\n",
       "      <td>14.19</td>\n",
       "      <td>13</td>\n",
       "      <td>9</td>\n",
       "      <td>0.0</td>\n",
       "      <td>2</td>\n",
       "    </tr>\n",
       "    <tr>\n",
       "      <th>2</th>\n",
       "      <td>ANSL_69750</td>\n",
       "      <td>2014-09-28 00:00:00</td>\n",
       "      <td>2016-10-19 08:24:00</td>\n",
       "      <td>NaN</td>\n",
       "      <td>Brown</td>\n",
       "      <td>0.15</td>\n",
       "      <td>40.90</td>\n",
       "      <td>15</td>\n",
       "      <td>4</td>\n",
       "      <td>2.0</td>\n",
       "      <td>4</td>\n",
       "    </tr>\n",
       "    <tr>\n",
       "      <th>3</th>\n",
       "      <td>ANSL_71623</td>\n",
       "      <td>2016-12-31 00:00:00</td>\n",
       "      <td>2019-01-25 18:30:00</td>\n",
       "      <td>1.0</td>\n",
       "      <td>White</td>\n",
       "      <td>0.62</td>\n",
       "      <td>17.82</td>\n",
       "      <td>0</td>\n",
       "      <td>1</td>\n",
       "      <td>0.0</td>\n",
       "      <td>2</td>\n",
       "    </tr>\n",
       "    <tr>\n",
       "      <th>4</th>\n",
       "      <td>ANSL_57969</td>\n",
       "      <td>2017-09-28 00:00:00</td>\n",
       "      <td>2017-11-19 09:38:00</td>\n",
       "      <td>2.0</td>\n",
       "      <td>Black</td>\n",
       "      <td>0.50</td>\n",
       "      <td>11.06</td>\n",
       "      <td>18</td>\n",
       "      <td>4</td>\n",
       "      <td>0.0</td>\n",
       "      <td>1</td>\n",
       "    </tr>\n",
       "    <tr>\n",
       "      <th>5</th>\n",
       "      <td>ANSL_52200</td>\n",
       "      <td>2017-10-25 00:00:00</td>\n",
       "      <td>2019-03-10 13:18:00</td>\n",
       "      <td>0.0</td>\n",
       "      <td>Red</td>\n",
       "      <td>0.92</td>\n",
       "      <td>29.56</td>\n",
       "      <td>0</td>\n",
       "      <td>7</td>\n",
       "      <td>1.0</td>\n",
       "      <td>2</td>\n",
       "    </tr>\n",
       "    <tr>\n",
       "      <th>6</th>\n",
       "      <td>ANSL_75444</td>\n",
       "      <td>2018-11-06 00:00:00</td>\n",
       "      <td>2019-04-09 16:00:00</td>\n",
       "      <td>2.0</td>\n",
       "      <td>Brown Tabby</td>\n",
       "      <td>0.14</td>\n",
       "      <td>40.24</td>\n",
       "      <td>0</td>\n",
       "      <td>1</td>\n",
       "      <td>0.0</td>\n",
       "      <td>1</td>\n",
       "    </tr>\n",
       "    <tr>\n",
       "      <th>7</th>\n",
       "      <td>ANSL_52759</td>\n",
       "      <td>2018-06-05 00:00:00</td>\n",
       "      <td>2018-09-02 17:04:00</td>\n",
       "      <td>0.0</td>\n",
       "      <td>White</td>\n",
       "      <td>0.15</td>\n",
       "      <td>25.48</td>\n",
       "      <td>7</td>\n",
       "      <td>1</td>\n",
       "      <td>1.0</td>\n",
       "      <td>1</td>\n",
       "    </tr>\n",
       "    <tr>\n",
       "      <th>8</th>\n",
       "      <td>ANSL_74632</td>\n",
       "      <td>2015-10-10 00:00:00</td>\n",
       "      <td>2016-08-04 16:29:00</td>\n",
       "      <td>2.0</td>\n",
       "      <td>Brown</td>\n",
       "      <td>0.05</td>\n",
       "      <td>38.22</td>\n",
       "      <td>13</td>\n",
       "      <td>9</td>\n",
       "      <td>1.0</td>\n",
       "      <td>2</td>\n",
       "    </tr>\n",
       "    <tr>\n",
       "      <th>9</th>\n",
       "      <td>ANSL_56464</td>\n",
       "      <td>2014-02-18 00:00:00</td>\n",
       "      <td>2017-03-17 11:38:00</td>\n",
       "      <td>2.0</td>\n",
       "      <td>Brown</td>\n",
       "      <td>0.55</td>\n",
       "      <td>21.26</td>\n",
       "      <td>13</td>\n",
       "      <td>9</td>\n",
       "      <td>1.0</td>\n",
       "      <td>2</td>\n",
       "    </tr>\n",
       "  </tbody>\n",
       "</table>\n",
       "</div>"
      ],
      "text/plain": [
       "       pet_id           issue_date         listing_date  condition  \\\n",
       "0  ANSL_69903  2016-07-10 00:00:00  2016-09-21 16:25:00        2.0   \n",
       "1  ANSL_66892  2013-11-21 00:00:00  2018-12-27 17:47:00        1.0   \n",
       "2  ANSL_69750  2014-09-28 00:00:00  2016-10-19 08:24:00        NaN   \n",
       "3  ANSL_71623  2016-12-31 00:00:00  2019-01-25 18:30:00        1.0   \n",
       "4  ANSL_57969  2017-09-28 00:00:00  2017-11-19 09:38:00        2.0   \n",
       "5  ANSL_52200  2017-10-25 00:00:00  2019-03-10 13:18:00        0.0   \n",
       "6  ANSL_75444  2018-11-06 00:00:00  2019-04-09 16:00:00        2.0   \n",
       "7  ANSL_52759  2018-06-05 00:00:00  2018-09-02 17:04:00        0.0   \n",
       "8  ANSL_74632  2015-10-10 00:00:00  2016-08-04 16:29:00        2.0   \n",
       "9  ANSL_56464  2014-02-18 00:00:00  2017-03-17 11:38:00        2.0   \n",
       "\n",
       "    color_type  length(m)  height(cm)  X1  X2  breed_category  pet_category  \n",
       "0  Brown Tabby       0.80        7.78  13   9             0.0             1  \n",
       "1        White       0.72       14.19  13   9             0.0             2  \n",
       "2        Brown       0.15       40.90  15   4             2.0             4  \n",
       "3        White       0.62       17.82   0   1             0.0             2  \n",
       "4        Black       0.50       11.06  18   4             0.0             1  \n",
       "5          Red       0.92       29.56   0   7             1.0             2  \n",
       "6  Brown Tabby       0.14       40.24   0   1             0.0             1  \n",
       "7        White       0.15       25.48   7   1             1.0             1  \n",
       "8        Brown       0.05       38.22  13   9             1.0             2  \n",
       "9        Brown       0.55       21.26  13   9             1.0             2  "
      ]
     },
     "execution_count": 2,
     "metadata": {},
     "output_type": "execute_result"
    }
   ],
   "source": [
    "df=pd.read_csv('dataset/train.csv')\n",
    "df.head(10)"
   ]
  },
  {
   "cell_type": "code",
   "execution_count": 3,
   "metadata": {},
   "outputs": [
    {
     "name": "stdout",
     "output_type": "stream",
     "text": [
      "<class 'pandas.core.frame.DataFrame'>\n",
      "RangeIndex: 18834 entries, 0 to 18833\n",
      "Data columns (total 11 columns):\n",
      " #   Column          Non-Null Count  Dtype  \n",
      "---  ------          --------------  -----  \n",
      " 0   pet_id          18834 non-null  object \n",
      " 1   issue_date      18834 non-null  object \n",
      " 2   listing_date    18834 non-null  object \n",
      " 3   condition       17357 non-null  float64\n",
      " 4   color_type      18834 non-null  object \n",
      " 5   length(m)       18834 non-null  float64\n",
      " 6   height(cm)      18834 non-null  float64\n",
      " 7   X1              18834 non-null  int64  \n",
      " 8   X2              18834 non-null  int64  \n",
      " 9   breed_category  18834 non-null  float64\n",
      " 10  pet_category    18834 non-null  int64  \n",
      "dtypes: float64(4), int64(3), object(4)\n",
      "memory usage: 1.6+ MB\n",
      "None\n"
     ]
    }
   ],
   "source": [
    "print(df.info())"
   ]
  },
  {
   "cell_type": "code",
   "execution_count": 4,
   "metadata": {},
   "outputs": [
    {
     "data": {
      "text/plain": [
       "pet_id               0\n",
       "issue_date           0\n",
       "listing_date         0\n",
       "condition         1477\n",
       "color_type           0\n",
       "length(m)            0\n",
       "height(cm)           0\n",
       "X1                   0\n",
       "X2                   0\n",
       "breed_category       0\n",
       "pet_category         0\n",
       "dtype: int64"
      ]
     },
     "execution_count": 4,
     "metadata": {},
     "output_type": "execute_result"
    }
   ],
   "source": [
    "df.isnull().sum()"
   ]
  },
  {
   "cell_type": "code",
   "execution_count": 5,
   "metadata": {},
   "outputs": [
    {
     "data": {
      "text/html": [
       "<div>\n",
       "<style scoped>\n",
       "    .dataframe tbody tr th:only-of-type {\n",
       "        vertical-align: middle;\n",
       "    }\n",
       "\n",
       "    .dataframe tbody tr th {\n",
       "        vertical-align: top;\n",
       "    }\n",
       "\n",
       "    .dataframe thead th {\n",
       "        text-align: right;\n",
       "    }\n",
       "</style>\n",
       "<table border=\"1\" class=\"dataframe\">\n",
       "  <thead>\n",
       "    <tr style=\"text-align: right;\">\n",
       "      <th></th>\n",
       "      <th>condition</th>\n",
       "      <th>color_type</th>\n",
       "      <th>length(m)</th>\n",
       "      <th>height(cm)</th>\n",
       "      <th>X1</th>\n",
       "      <th>X2</th>\n",
       "      <th>breed_category</th>\n",
       "      <th>pet_category</th>\n",
       "    </tr>\n",
       "  </thead>\n",
       "  <tbody>\n",
       "    <tr>\n",
       "      <th>0</th>\n",
       "      <td>2.0</td>\n",
       "      <td>Brown Tabby</td>\n",
       "      <td>0.80</td>\n",
       "      <td>7.78</td>\n",
       "      <td>13</td>\n",
       "      <td>9</td>\n",
       "      <td>0.0</td>\n",
       "      <td>1</td>\n",
       "    </tr>\n",
       "    <tr>\n",
       "      <th>1</th>\n",
       "      <td>1.0</td>\n",
       "      <td>White</td>\n",
       "      <td>0.72</td>\n",
       "      <td>14.19</td>\n",
       "      <td>13</td>\n",
       "      <td>9</td>\n",
       "      <td>0.0</td>\n",
       "      <td>2</td>\n",
       "    </tr>\n",
       "    <tr>\n",
       "      <th>2</th>\n",
       "      <td>NaN</td>\n",
       "      <td>Brown</td>\n",
       "      <td>0.15</td>\n",
       "      <td>40.90</td>\n",
       "      <td>15</td>\n",
       "      <td>4</td>\n",
       "      <td>2.0</td>\n",
       "      <td>4</td>\n",
       "    </tr>\n",
       "    <tr>\n",
       "      <th>3</th>\n",
       "      <td>1.0</td>\n",
       "      <td>White</td>\n",
       "      <td>0.62</td>\n",
       "      <td>17.82</td>\n",
       "      <td>0</td>\n",
       "      <td>1</td>\n",
       "      <td>0.0</td>\n",
       "      <td>2</td>\n",
       "    </tr>\n",
       "    <tr>\n",
       "      <th>4</th>\n",
       "      <td>2.0</td>\n",
       "      <td>Black</td>\n",
       "      <td>0.50</td>\n",
       "      <td>11.06</td>\n",
       "      <td>18</td>\n",
       "      <td>4</td>\n",
       "      <td>0.0</td>\n",
       "      <td>1</td>\n",
       "    </tr>\n",
       "  </tbody>\n",
       "</table>\n",
       "</div>"
      ],
      "text/plain": [
       "   condition   color_type  length(m)  height(cm)  X1  X2  breed_category  \\\n",
       "0        2.0  Brown Tabby       0.80        7.78  13   9             0.0   \n",
       "1        1.0        White       0.72       14.19  13   9             0.0   \n",
       "2        NaN        Brown       0.15       40.90  15   4             2.0   \n",
       "3        1.0        White       0.62       17.82   0   1             0.0   \n",
       "4        2.0        Black       0.50       11.06  18   4             0.0   \n",
       "\n",
       "   pet_category  \n",
       "0             1  \n",
       "1             2  \n",
       "2             4  \n",
       "3             2  \n",
       "4             1  "
      ]
     },
     "execution_count": 5,
     "metadata": {},
     "output_type": "execute_result"
    }
   ],
   "source": [
    "df=df.drop(['pet_id','issue_date','listing_date'],axis=1)\n",
    "df.head(5)"
   ]
  },
  {
   "cell_type": "code",
   "execution_count": 6,
   "metadata": {},
   "outputs": [
    {
     "data": {
      "text/plain": [
       "condition         1477\n",
       "color_type           0\n",
       "length(m)            0\n",
       "height(cm)           0\n",
       "X1                   0\n",
       "X2                   0\n",
       "breed_category       0\n",
       "pet_category         0\n",
       "dtype: int64"
      ]
     },
     "execution_count": 6,
     "metadata": {},
     "output_type": "execute_result"
    }
   ],
   "source": [
    "df.isnull().sum()"
   ]
  },
  {
   "cell_type": "markdown",
   "metadata": {},
   "source": [
    "## Numeric conversion of catagorical Features"
   ]
  },
  {
   "cell_type": "code",
   "execution_count": 7,
   "metadata": {},
   "outputs": [],
   "source": [
    "from sklearn.preprocessing import LabelEncoder as LE\n",
    "df['color_type']=LE().fit_transform(df['color_type'])"
   ]
  },
  {
   "cell_type": "markdown",
   "metadata": {},
   "source": [
    "# Univariate Analysis"
   ]
  },
  {
   "cell_type": "markdown",
   "metadata": {},
   "source": [
    "## Nan value treatment"
   ]
  },
  {
   "cell_type": "code",
   "execution_count": 8,
   "metadata": {},
   "outputs": [
    {
     "data": {
      "image/png": "[encoded data removed]",
      "text/plain": [
       "<Figure size 432x288 with 1 Axes>"
      ]
     },
     "metadata": {
      "needs_background": "light"
     },
     "output_type": "display_data"
    }
   ],
   "source": [
    "sns.boxplot(df['condition'])\n",
    "plt.show()"
   ]
  },
  {
   "cell_type": "code",
   "execution_count": 9,
   "metadata": {},
   "outputs": [
    {
     "data": {
      "image/png": "[encoded data removed]",
      "text/plain": [
       "<Figure size 432x288 with 1 Axes>"
      ]
     },
     "metadata": {
      "needs_background": "light"
     },
     "output_type": "display_data"
    }
   ],
   "source": [
    "sns.boxplot(df['color_type'])\n",
    "plt.show()"
   ]
  },
  {
   "cell_type": "code",
   "execution_count": 10,
   "metadata": {},
   "outputs": [
    {
     "data": {
      "image/png": "[encoded data removed]",
      "text/plain": [
       "<Figure size 432x288 with 1 Axes>"
      ]
     },
     "metadata": {
      "needs_background": "light"
     },
     "output_type": "display_data"
    }
   ],
   "source": [
    "sns.boxplot(df['length(m)'])\n",
    "plt.show()"
   ]
  },
  {
   "cell_type": "code",
   "execution_count": 11,
   "metadata": {},
   "outputs": [
    {
     "data": {
      "image/png": "[encoded data removed]",
      "text/plain": [
       "<Figure size 432x288 with 1 Axes>"
      ]
     },
     "metadata": {
      "needs_background": "light"
     },
     "output_type": "display_data"
    }
   ],
   "source": [
    "sns.boxplot(df['height(cm)'])\n",
    "plt.show()"
   ]
  },
  {
   "cell_type": "code",
   "execution_count": 12,
   "metadata": {},
   "outputs": [
    {
     "data": {
      "image/png": "[encoded data removed]",
      "text/plain": [
       "<Figure size 432x288 with 1 Axes>"
      ]
     },
     "metadata": {
      "needs_background": "light"
     },
     "output_type": "display_data"
    }
   ],
   "source": [
    "sns.boxplot(df['X1'])\n",
    "plt.show()"
   ]
  },
  {
   "cell_type": "code",
   "execution_count": 13,
   "metadata": {},
   "outputs": [
    {
     "data": {
      "image/png": "[encoded data removed]",
      "text/plain": [
       "<Figure size 432x288 with 1 Axes>"
      ]
     },
     "metadata": {
      "needs_background": "light"
     },
     "output_type": "display_data"
    }
   ],
   "source": [
    "sns.boxplot(df['X2'])\n",
    "plt.show()"
   ]
  },
  {
   "cell_type": "code",
   "execution_count": 14,
   "metadata": {},
   "outputs": [],
   "source": [
    "df['condition'].fillna((df['condition'].mean()), inplace=True)"
   ]
  },
  {
   "cell_type": "markdown",
   "metadata": {},
   "source": [
    "## Skewness removal"
   ]
  },
  {
   "cell_type": "code",
   "execution_count": 15,
   "metadata": {},
   "outputs": [
    {
     "data": {
      "image/png": "[encoded data removed]",
      "text/plain": [
       "<Figure size 432x288 with 1 Axes>"
      ]
     },
     "metadata": {
      "needs_background": "light"
     },
     "output_type": "display_data"
    }
   ],
   "source": [
    "sns.distplot(df['condition'])\n",
    "plt.show()"
   ]
  },
  {
   "cell_type": "code",
   "execution_count": 16,
   "metadata": {},
   "outputs": [
    {
     "data": {
      "image/png": "[encoded data removed]",
      "text/plain": [
       "<Figure size 432x288 with 1 Axes>"
      ]
     },
     "metadata": {
      "needs_background": "light"
     },
     "output_type": "display_data"
    }
   ],
   "source": [
    "sns.distplot(df['color_type'])\n",
    "plt.show()"
   ]
  },
  {
   "cell_type": "code",
   "execution_count": 17,
   "metadata": {},
   "outputs": [
    {
     "data": {
      "image/png": "[encoded data removed]",
      "text/plain": [
       "<Figure size 432x288 with 1 Axes>"
      ]
     },
     "metadata": {
      "needs_background": "light"
     },
     "output_type": "display_data"
    }
   ],
   "source": [
    "sns.distplot(df['length(m)'])\n",
    "plt.show()"
   ]
  },
  {
   "cell_type": "code",
   "execution_count": 18,
   "metadata": {},
   "outputs": [
    {
     "data": {
      "image/png": "[encoded data removed]",
      "text/plain": [
       "<Figure size 432x288 with 1 Axes>"
      ]
     },
     "metadata": {
      "needs_background": "light"
     },
     "output_type": "display_data"
    }
   ],
   "source": [
    "sns.distplot(df['height(cm)'])\n",
    "plt.show()"
   ]
  },
  {
   "cell_type": "code",
   "execution_count": 19,
   "metadata": {},
   "outputs": [
    {
     "data": {
      "image/png": "[encoded data removed]",
      "text/plain": [
       "<Figure size 432x288 with 1 Axes>"
      ]
     },
     "metadata": {
      "needs_background": "light"
     },
     "output_type": "display_data"
    }
   ],
   "source": [
    "sns.distplot(df['X1'])\n",
    "plt.show()"
   ]
  },
  {
   "cell_type": "code",
   "execution_count": 20,
   "metadata": {},
   "outputs": [
    {
     "data": {
      "image/png": "[encoded data removed]",
      "text/plain": [
       "<Figure size 432x288 with 1 Axes>"
      ]
     },
     "metadata": {
      "needs_background": "light"
     },
     "output_type": "display_data"
    }
   ],
   "source": [
    "sns.distplot(df['X2'])\n",
    "plt.show()"
   ]
  },
  {
   "cell_type": "code",
   "execution_count": 21,
   "metadata": {},
   "outputs": [
    {
     "name": "stdout",
     "output_type": "stream",
     "text": [
      "condition         0.210992\n",
      "color_type        0.297405\n",
      "length(m)        -0.002447\n",
      "height(cm)        0.008525\n",
      "X1                0.563746\n",
      "X2                0.129107\n",
      "breed_category    0.559098\n",
      "pet_category      1.230389\n",
      "dtype: float64\n"
     ]
    }
   ],
   "source": [
    "print(df.skew())"
   ]
  },
  {
   "cell_type": "markdown",
   "metadata": {},
   "source": [
    "# Biclass Classification"
   ]
  },
  {
   "cell_type": "code",
   "execution_count": 22,
   "metadata": {},
   "outputs": [
    {
     "data": {
      "image/png": "[encoded data removed]",
      "text/plain": [
       "<Figure size 576x576 with 2 Axes>"
      ]
     },
     "metadata": {
      "needs_background": "light"
     },
     "output_type": "display_data"
    }
   ],
   "source": [
    "plt.figure(figsize=(8,8))\n",
    "sns.heatmap(df.corr(),annot=True)\n",
    "plt.show()"
   ]
  },
  {
   "cell_type": "markdown",
   "metadata": {},
   "source": [
    "# Class Imballance"
   ]
  },
  {
   "cell_type": "code",
   "execution_count": 23,
   "metadata": {},
   "outputs": [
    {
     "data": {
      "image/png": "[encoded data removed]",
      "text/plain": [
       "<Figure size 1152x288 with 3 Axes>"
      ]
     },
     "metadata": {
      "needs_background": "light"
     },
     "output_type": "display_data"
    }
   ],
   "source": [
    "plt.figure(figsize=(16,4))\n",
    "plt.subplot(1,3,1)\n",
    "sns.countplot(df['pet_category'])\n",
    "plt.subplot(1,3,2)\n",
    "sns.countplot(df['breed_category'])\n",
    "plt.subplot(1,3,3)\n",
    "sns.countplot(x='breed_category',hue='pet_category',data=df)\n",
    "plt.show()"
   ]
  },
  {
   "cell_type": "code",
   "execution_count": 24,
   "metadata": {},
   "outputs": [
    {
     "data": {
      "image/png": "[encoded data removed]",
      "text/plain": [
       "<Figure size 432x288 with 1 Axes>"
      ]
     },
     "metadata": {
      "needs_background": "light"
     },
     "output_type": "display_data"
    }
   ],
   "source": [
    "temp=sns.countplot(x='breed_category',hue='pet_category',data=df)\n",
    "#plt.show()\n",
    "for p in temp.patches:\n",
    "    temp.annotate(format(p.get_height(), '.0f'), (p.get_x() + p.get_width() / 2., p.get_height()),\\\n",
    "                  ha = 'center', va = 'center', xytext = (0, 10), textcoords = 'offset points')"
   ]
  },
  {
   "cell_type": "code",
   "execution_count": 25,
   "metadata": {},
   "outputs": [
    {
     "data": {
      "text/plain": [
       "2    10621\n",
       "1     7184\n",
       "4      941\n",
       "0       88\n",
       "Name: pet_category, dtype: int64"
      ]
     },
     "execution_count": 25,
     "metadata": {},
     "output_type": "execute_result"
    }
   ],
   "source": [
    "df.pet_category.value_counts()"
   ]
  },
  {
   "cell_type": "code",
   "execution_count": 26,
   "metadata": {},
   "outputs": [],
   "source": [
    "from sklearn.model_selection import train_test_split as tts\n",
    "\n",
    "from sklearn.linear_model import LogisticRegression as LG\n",
    "from sklearn.tree import DecisionTreeClassifier as dtc\n",
    "from sklearn.preprocessing import StandardScaler as SC\n",
    "from sklearn.neighbors import KNeighborsClassifier as KNC\n",
    "from sklearn.naive_bayes import GaussianNB as GB\n",
    "\n",
    "from sklearn.metrics import confusion_matrix as cm\n",
    "from sklearn.metrics import accuracy_score as acc\n",
    "from sklearn.metrics import recall_score as rcc\n",
    "from sklearn.metrics import precision_score as prr\n",
    "from sklearn.metrics import classification_report as cr"
   ]
  },
  {
   "cell_type": "markdown",
   "metadata": {},
   "source": [
    "# Upsampling"
   ]
  },
  {
   "cell_type": "code",
   "execution_count": 27,
   "metadata": {},
   "outputs": [
    {
     "name": "stdout",
     "output_type": "stream",
     "text": [
      "1    17893\n",
      "0      941\n",
      "Name: balance, dtype: int64\n",
      "1    28426\n",
      "0       88\n",
      "Name: balance, dtype: int64\n",
      "1    31863\n",
      "0     7184\n",
      "Name: balance, dtype: int64\n",
      "\n",
      "\n",
      "==================== (42484, 9) =======================\n"
     ]
    }
   ],
   "source": [
    "from sklearn.utils import resample as rs\n",
    "df['balance'] = [1 if ((i==0) or (i==1) or (i==2)) else 0 for i in df.pet_category]\n",
    "print(df['balance'].value_counts())\n",
    "major=df[df.balance==1]\n",
    "minor=df[df.balance==0]\n",
    "df=rs(minor,replace=True,n_samples=10621,random_state=1)\n",
    "df=pd.concat([df,major])\n",
    "df['pet_category'].value_counts()\n",
    "\n",
    "\n",
    "from sklearn.utils import resample as rs\n",
    "df['balance'] = [1 if ((i==1) or (i==2) or (i==4)) else 0 for i in df.pet_category]\n",
    "print(df['balance'].value_counts())\n",
    "major=df[df.balance==1]\n",
    "minor=df[df.balance==0]\n",
    "df=rs(minor,replace=True,n_samples=10621,random_state=1)\n",
    "df=pd.concat([df,major])\n",
    "df['pet_category'].value_counts()\n",
    "\n",
    "from sklearn.utils import resample as rs\n",
    "df['balance'] = [1 if ((i==0) or (i==2) or (i==4)) else 0 for i in df.pet_category]\n",
    "print(df['balance'].value_counts())\n",
    "major=df[df.balance==1]\n",
    "minor=df[df.balance==0]\n",
    "df=rs(minor,replace=True,n_samples=10621,random_state=1)\n",
    "df=pd.concat([df,major])\n",
    "df['pet_category'].value_counts()\n",
    "\n",
    "print(\"\\n\\n====================\",df.shape,\"=======================\")"
   ]
  },
  {
   "cell_type": "code",
   "execution_count": 28,
   "metadata": {
    "scrolled": false
   },
   "outputs": [
    {
     "data": {
      "image/png": "[encoded data removed]",
      "text/plain": [
       "<Figure size 1152x288 with 3 Axes>"
      ]
     },
     "metadata": {
      "needs_background": "light"
     },
     "output_type": "display_data"
    }
   ],
   "source": [
    "plt.figure(figsize=(16,4))\n",
    "plt.subplot(1,3,1)\n",
    "sns.countplot(df['pet_category'])\n",
    "plt.subplot(1,3,2)\n",
    "sns.countplot(df['breed_category'])\n",
    "plt.subplot(1,3,3)\n",
    "sns.countplot(x='breed_category',hue='pet_category',data=df)\n",
    "plt.show()"
   ]
  },
  {
   "cell_type": "code",
   "execution_count": 29,
   "metadata": {},
   "outputs": [
    {
     "name": "stdout",
     "output_type": "stream",
     "text": [
      "<class 'pandas.core.frame.DataFrame'> <class 'pandas.core.frame.DataFrame'>\n"
     ]
    }
   ],
   "source": [
    "x=df.drop(['pet_category','breed_category','balance'],axis=1)\n",
    "#x=df.drop(['pet_category','breed_category'],axis=1)\n",
    "y=df[['pet_category','breed_category']]\n",
    "print(type(x),type(y))\n",
    "train_x,test_x,train_y,test_y=tts(x,y,test_size=0.4,random_state=101)"
   ]
  },
  {
   "cell_type": "markdown",
   "metadata": {},
   "source": [
    "# Multioutput Regression Method"
   ]
  },
  {
   "cell_type": "markdown",
   "metadata": {},
   "source": [
    "# Linear Regression"
   ]
  },
  {
   "cell_type": "code",
   "execution_count": 30,
   "metadata": {
    "scrolled": true
   },
   "outputs": [
    {
     "name": "stdout",
     "output_type": "stream",
     "text": [
      "Confusion Matrix and Classification report for 'breed_category' column\n",
      "[[  11 3540 2410   26]\n",
      " [   5  895 3452  365]\n",
      " [   0 1304 4079  907]\n",
      " [   0    0    0    0]]\n",
      "Value of 'breed_catagory' column predicted with accuracy:  29.333882546781215 %\n",
      "              precision    recall  f1-score   support\n",
      "\n",
      "         0.0       0.00      0.69      0.00        16\n",
      "         1.0       0.19      0.16      0.17      5739\n",
      "         2.0       0.65      0.41      0.50      9941\n",
      "         3.0       0.00      0.00      0.00      1298\n",
      "\n",
      "    accuracy                           0.29     16994\n",
      "   macro avg       0.21      0.31      0.17     16994\n",
      "weighted avg       0.44      0.29      0.35     16994\n",
      "\n",
      "Confusion Matrix and Classification report for 'pet_category' column\n",
      "[[1144 2350  788    0]\n",
      " [ 247 3343  684    0]\n",
      " [ 879 2967  362    0]\n",
      " [ 119 1434 2677    0]]\n",
      "Value of 'pet_catagory' column predicted with accuracy:  28.53360009415088 %\n",
      "              precision    recall  f1-score   support\n",
      "\n",
      "         0.0       0.27      0.48      0.34      2389\n",
      "         1.0       0.78      0.33      0.47     10094\n",
      "         2.0       0.09      0.08      0.08      4511\n",
      "         4.0       0.00      0.00      0.00         0\n",
      "\n",
      "    accuracy                           0.29     16994\n",
      "   macro avg       0.28      0.22      0.22     16994\n",
      "weighted avg       0.52      0.29      0.35     16994\n",
      "\n"
     ]
    },
    {
     "name": "stderr",
     "output_type": "stream",
     "text": [
      "C:\\Users\\User\\Anaconda3\\lib\\site-packages\\sklearn\\metrics\\_classification.py:1221: UndefinedMetricWarning: Precision and F-score are ill-defined and being set to 0.0 in labels with no predicted samples. Use `zero_division` parameter to control this behavior.\n",
      "  _warn_prf(average, modifier, msg_start, len(result))\n",
      "C:\\Users\\User\\Anaconda3\\lib\\site-packages\\sklearn\\metrics\\_classification.py:1221: UndefinedMetricWarning: Recall and F-score are ill-defined and being set to 0.0 in labels with no true samples. Use `zero_division` parameter to control this behavior.\n",
      "  _warn_prf(average, modifier, msg_start, len(result))\n"
     ]
    }
   ],
   "source": [
    "from sklearn.linear_model import LinearRegression\n",
    "model = LinearRegression()\n",
    "model.fit(train_x,train_y)\n",
    "outp = model.predict(test_x)\n",
    "\n",
    "for i in range(len(outp)):\n",
    "    outp[i][0]=round(outp[i][0])\n",
    "    outp[i][1]=round(outp[i][1])\n",
    "\n",
    "temp=[]\n",
    "for i in outp: temp.append(i[0])\n",
    "m=cm(test_y['breed_category'],temp)\n",
    "print(\"Confusion Matrix and Classification report for 'breed_category' column\")\n",
    "print(m)\n",
    "print(\"Value of 'breed_catagory' column predicted with accuracy: \",acc(temp,test_y['breed_category'])*100,\"%\")\n",
    "print(cr(temp,test_y['breed_category']))\n",
    "temp=[]\n",
    "for i in outp: temp.append(i[1])\n",
    "m=cm(test_y['pet_category'],temp)\n",
    "print(\"Confusion Matrix and Classification report for 'pet_category' column\")\n",
    "print(m)\n",
    "print(\"Value of 'pet_catagory' column predicted with accuracy: \",acc(temp,test_y['pet_category'])*100,\"%\")\n",
    "print(cr(temp,test_y['pet_category']))"
   ]
  },
  {
   "cell_type": "markdown",
   "metadata": {},
   "source": [
    "## Manually accuracy calculate (Accuracy Intersection)"
   ]
  },
  {
   "cell_type": "code",
   "execution_count": 31,
   "metadata": {},
   "outputs": [
    {
     "name": "stdout",
     "output_type": "stream",
     "text": [
      "Actual accuracy from both output column:  2.724490996822408 %\n"
     ]
    }
   ],
   "source": [
    "cnt=0\n",
    "new1=test_y['breed_category'].tolist()\n",
    "new2=test_y['pet_category'].tolist()\n",
    "for i in range(len(outp)):\n",
    "    if(outp[i][0]==new1[i] and outp[i][1]==new2[i]): cnt+=1\n",
    "print(\"Actual accuracy from both output column: \",(cnt/len(outp))*100,\"%\")"
   ]
  },
  {
   "cell_type": "markdown",
   "metadata": {},
   "source": [
    "# K Neighbors Regressor"
   ]
  },
  {
   "cell_type": "code",
   "execution_count": 32,
   "metadata": {},
   "outputs": [
    {
     "name": "stdout",
     "output_type": "stream",
     "text": [
      "Confusion Matrix and Classification report for 'breed_category' column\n",
      "[[1504 1912 1930  180  461]\n",
      " [ 408 2006 1746  150  407]\n",
      " [2442  271   60  100 3417]\n",
      " [   0    0    0    0    0]\n",
      " [   0    0    0    0    0]]\n",
      "Value of 'breed_catagory' column predicted with accuracy:  21.007414381546425 %\n",
      "              precision    recall  f1-score   support\n",
      "\n",
      "         0.0       0.25      0.35      0.29      4354\n",
      "         1.0       0.43      0.48      0.45      4189\n",
      "         2.0       0.01      0.02      0.01      3736\n",
      "         3.0       0.00      0.00      0.00       430\n",
      "         4.0       0.00      0.00      0.00      4285\n",
      "\n",
      "    accuracy                           0.21     16994\n",
      "   macro avg       0.14      0.17      0.15     16994\n",
      "weighted avg       0.17      0.21      0.19     16994\n",
      "\n",
      "Confusion Matrix and Classification report for 'pet_category' column\n",
      "[[1456  385 2441    0]\n",
      " [1939 2132  203    0]\n",
      " [2164 1900  144    0]\n",
      " [ 372  379 3479    0]]\n",
      "Value of 'pet_catagory' column predicted with accuracy:  21.96069200894433 %\n",
      "              precision    recall  f1-score   support\n",
      "\n",
      "         0.0       0.34      0.25      0.29      5931\n",
      "         1.0       0.50      0.44      0.47      4796\n",
      "         2.0       0.03      0.02      0.03      6267\n",
      "         4.0       0.00      0.00      0.00         0\n",
      "\n",
      "    accuracy                           0.22     16994\n",
      "   macro avg       0.22      0.18      0.20     16994\n",
      "weighted avg       0.27      0.22      0.24     16994\n",
      "\n"
     ]
    },
    {
     "name": "stderr",
     "output_type": "stream",
     "text": [
      "C:\\Users\\User\\Anaconda3\\lib\\site-packages\\sklearn\\metrics\\_classification.py:1221: UndefinedMetricWarning: Precision and F-score are ill-defined and being set to 0.0 in labels with no predicted samples. Use `zero_division` parameter to control this behavior.\n",
      "  _warn_prf(average, modifier, msg_start, len(result))\n",
      "C:\\Users\\User\\Anaconda3\\lib\\site-packages\\sklearn\\metrics\\_classification.py:1221: UndefinedMetricWarning: Recall and F-score are ill-defined and being set to 0.0 in labels with no true samples. Use `zero_division` parameter to control this behavior.\n",
      "  _warn_prf(average, modifier, msg_start, len(result))\n"
     ]
    }
   ],
   "source": [
    "from sklearn.neighbors import KNeighborsRegressor\n",
    "model = KNeighborsRegressor()\n",
    "model.fit(train_x,train_y)\n",
    "outp = model.predict(test_x)\n",
    "\n",
    "for i in range(len(outp)):\n",
    "    outp[i][0]=round(outp[i][0])\n",
    "    outp[i][1]=round(outp[i][1])\n",
    "\n",
    "temp=[]\n",
    "for i in outp: temp.append(i[0])\n",
    "m=cm(test_y['breed_category'],temp)\n",
    "print(\"Confusion Matrix and Classification report for 'breed_category' column\")\n",
    "print(m)\n",
    "print(\"Value of 'breed_catagory' column predicted with accuracy: \",acc(temp,test_y['breed_category'])*100,\"%\")\n",
    "print(cr(temp,test_y['breed_category']))\n",
    "temp=[]\n",
    "for i in outp: temp.append(i[1])\n",
    "m=cm(test_y['pet_category'],temp)\n",
    "print(\"Confusion Matrix and Classification report for 'pet_category' column\")\n",
    "print(m)\n",
    "print(\"Value of 'pet_catagory' column predicted with accuracy: \",acc(temp,test_y['pet_category'])*100,\"%\")\n",
    "print(cr(temp,test_y['pet_category']))"
   ]
  },
  {
   "cell_type": "code",
   "execution_count": 33,
   "metadata": {},
   "outputs": [
    {
     "name": "stdout",
     "output_type": "stream",
     "text": [
      "Actual accuracy from both output column:  16.270448393550666 %\n"
     ]
    }
   ],
   "source": [
    "cnt=0\n",
    "for i in range(len(outp)):\n",
    "    if(outp[i][0]==new1[i] and outp[i][1]==new2[i]): cnt+=1\n",
    "print(\"Actual accuracy from both output column: \",(cnt/len(outp))*100,\"%\")"
   ]
  },
  {
   "cell_type": "markdown",
   "metadata": {},
   "source": [
    "# Decision Tree Regressor"
   ]
  },
  {
   "cell_type": "code",
   "execution_count": 34,
   "metadata": {},
   "outputs": [
    {
     "name": "stdout",
     "output_type": "stream",
     "text": [
      "Confusion Matrix and Classification report for 'breed_category' column\n",
      "[[1465 2077 2023  422]\n",
      " [ 400 2131 1769  417]\n",
      " [2452  296   16 3526]\n",
      " [   0    0    0    0]]\n",
      "Value of 'breed_catagory' column predicted with accuracy:  21.25456043309403 %\n",
      "              precision    recall  f1-score   support\n",
      "\n",
      "         0.0       0.24      0.34      0.28      4317\n",
      "         1.0       0.45      0.47      0.46      4504\n",
      "         2.0       0.00      0.00      0.00      3808\n",
      "         4.0       0.00      0.00      0.00      4365\n",
      "\n",
      "    accuracy                           0.21     16994\n",
      "   macro avg       0.17      0.20      0.19     16994\n",
      "weighted avg       0.18      0.21      0.20     16994\n",
      "\n",
      "Confusion Matrix and Classification report for 'pet_category' column\n",
      "[[1456  385 2441    0]\n",
      " [1944 1998  332    0]\n",
      " [2218 1960   30    0]\n",
      " [ 376  358 3496    0]]\n",
      "Value of 'pet_catagory' column predicted with accuracy:  20.501353418853714 %\n",
      "              precision    recall  f1-score   support\n",
      "\n",
      "         0.0       0.34      0.24      0.28      5994\n",
      "         1.0       0.47      0.43      0.45      4701\n",
      "         2.0       0.01      0.00      0.01      6299\n",
      "         4.0       0.00      0.00      0.00         0\n",
      "\n",
      "    accuracy                           0.21     16994\n",
      "   macro avg       0.20      0.17      0.18     16994\n",
      "weighted avg       0.25      0.21      0.23     16994\n",
      "\n"
     ]
    },
    {
     "name": "stderr",
     "output_type": "stream",
     "text": [
      "C:\\Users\\User\\Anaconda3\\lib\\site-packages\\sklearn\\metrics\\_classification.py:1221: UndefinedMetricWarning: Precision and F-score are ill-defined and being set to 0.0 in labels with no predicted samples. Use `zero_division` parameter to control this behavior.\n",
      "  _warn_prf(average, modifier, msg_start, len(result))\n",
      "C:\\Users\\User\\Anaconda3\\lib\\site-packages\\sklearn\\metrics\\_classification.py:1221: UndefinedMetricWarning: Recall and F-score are ill-defined and being set to 0.0 in labels with no true samples. Use `zero_division` parameter to control this behavior.\n",
      "  _warn_prf(average, modifier, msg_start, len(result))\n"
     ]
    }
   ],
   "source": [
    "from sklearn.tree import DecisionTreeRegressor\n",
    "model = DecisionTreeRegressor()\n",
    "model.fit(train_x,train_y)\n",
    "outp = model.predict(test_x)\n",
    "\n",
    "for i in range(len(outp)):\n",
    "    outp[i][0]=round(outp[i][0])\n",
    "    outp[i][1]=round(outp[i][1])\n",
    "\n",
    "temp=[]\n",
    "for i in outp: temp.append(i[0])\n",
    "m=cm(test_y['breed_category'],temp)\n",
    "print(\"Confusion Matrix and Classification report for 'breed_category' column\")\n",
    "print(m)\n",
    "print(\"Value of 'breed_catagory' column predicted with accuracy: \",acc(temp,test_y['breed_category'])*100,\"%\")\n",
    "print(cr(temp,test_y['breed_category']))\n",
    "temp=[]\n",
    "for i in outp: temp.append(i[1])\n",
    "m=cm(test_y['pet_category'],temp)\n",
    "print(\"Confusion Matrix and Classification report for 'pet_category' column\")\n",
    "print(m)\n",
    "print(\"Value of 'pet_catagory' column predicted with accuracy: \",acc(temp,test_y['pet_category'])*100,\"%\")\n",
    "print(cr(temp,test_y['pet_category']))"
   ]
  },
  {
   "cell_type": "code",
   "execution_count": 35,
   "metadata": {},
   "outputs": [
    {
     "name": "stdout",
     "output_type": "stream",
     "text": [
      "Actual accuracy from both output column:  18.677180181240438 %\n"
     ]
    }
   ],
   "source": [
    "cnt=0\n",
    "for i in range(len(outp)):\n",
    "    if(outp[i][0]==new1[i] and outp[i][1]==new2[i]): cnt+=1\n",
    "print(\"Actual accuracy from both output column: \",(cnt/len(outp))*100,\"%\")"
   ]
  },
  {
   "cell_type": "markdown",
   "metadata": {},
   "source": [
    "> # Chained Multioutput regression"
   ]
  },
  {
   "cell_type": "code",
   "execution_count": 36,
   "metadata": {
    "scrolled": true
   },
   "outputs": [
    {
     "name": "stdout",
     "output_type": "stream",
     "text": [
      "<class 'pandas.core.frame.DataFrame'> <class 'pandas.core.frame.DataFrame'>\n"
     ]
    }
   ],
   "source": [
    "x=df.drop(['pet_category','breed_category','balance'],axis=1)\n",
    "#x=df.drop(['pet_category','breed_category'],axis=1)\n",
    "y=df[['pet_category','breed_category']]\n",
    "print(type(x),type(y))\n",
    "train_x,test_x,train_y,test_y=tts(x,y,test_size=0.4,random_state=101)"
   ]
  },
  {
   "cell_type": "code",
   "execution_count": 37,
   "metadata": {
    "scrolled": false
   },
   "outputs": [
    {
     "data": {
      "text/html": [
       "<div>\n",
       "<style scoped>\n",
       "    .dataframe tbody tr th:only-of-type {\n",
       "        vertical-align: middle;\n",
       "    }\n",
       "\n",
       "    .dataframe tbody tr th {\n",
       "        vertical-align: top;\n",
       "    }\n",
       "\n",
       "    .dataframe thead th {\n",
       "        text-align: right;\n",
       "    }\n",
       "</style>\n",
       "<table border=\"1\" class=\"dataframe\">\n",
       "  <thead>\n",
       "    <tr style=\"text-align: right;\">\n",
       "      <th></th>\n",
       "      <th>pet_category</th>\n",
       "      <th>breed_category</th>\n",
       "    </tr>\n",
       "  </thead>\n",
       "  <tbody>\n",
       "    <tr>\n",
       "      <th>15163</th>\n",
       "      <td>0</td>\n",
       "      <td>2.0</td>\n",
       "    </tr>\n",
       "    <tr>\n",
       "      <th>78</th>\n",
       "      <td>0</td>\n",
       "      <td>2.0</td>\n",
       "    </tr>\n",
       "    <tr>\n",
       "      <th>9220</th>\n",
       "      <td>4</td>\n",
       "      <td>0.0</td>\n",
       "    </tr>\n",
       "    <tr>\n",
       "      <th>6987</th>\n",
       "      <td>4</td>\n",
       "      <td>2.0</td>\n",
       "    </tr>\n",
       "    <tr>\n",
       "      <th>14766</th>\n",
       "      <td>2</td>\n",
       "      <td>1.0</td>\n",
       "    </tr>\n",
       "  </tbody>\n",
       "</table>\n",
       "</div>"
      ],
      "text/plain": [
       "       pet_category  breed_category\n",
       "15163             0             2.0\n",
       "78                0             2.0\n",
       "9220              4             0.0\n",
       "6987              4             2.0\n",
       "14766             2             1.0"
      ]
     },
     "execution_count": 37,
     "metadata": {},
     "output_type": "execute_result"
    }
   ],
   "source": [
    "train_x_bkp=train_x.copy()\n",
    "train_y_bkp=train_y.copy()\n",
    "test_x_bkp=test_x.copy()\n",
    "test_y_bkp=test_y.copy()\n",
    "train_x.head(5)\n",
    "train_y.head(5)"
   ]
  },
  {
   "cell_type": "code",
   "execution_count": 38,
   "metadata": {},
   "outputs": [
    {
     "name": "stdout",
     "output_type": "stream",
     "text": [
      "<class 'pandas.core.frame.DataFrame'>\n",
      "<class 'pandas.core.frame.DataFrame'>\n"
     ]
    }
   ],
   "source": [
    "train_y=train_y.drop(['breed_category'],axis=1)\n",
    "bkp_y=test_y.copy()\n",
    "test_y=test_y.drop(['breed_category'],axis=1)\n",
    "print(type(train_x))\n",
    "print(type(train_y))"
   ]
  },
  {
   "cell_type": "code",
   "execution_count": 39,
   "metadata": {},
   "outputs": [
    {
     "data": {
      "text/html": [
       "<div>\n",
       "<style scoped>\n",
       "    .dataframe tbody tr th:only-of-type {\n",
       "        vertical-align: middle;\n",
       "    }\n",
       "\n",
       "    .dataframe tbody tr th {\n",
       "        vertical-align: top;\n",
       "    }\n",
       "\n",
       "    .dataframe thead th {\n",
       "        text-align: right;\n",
       "    }\n",
       "</style>\n",
       "<table border=\"1\" class=\"dataframe\">\n",
       "  <thead>\n",
       "    <tr style=\"text-align: right;\">\n",
       "      <th></th>\n",
       "      <th>pet_category</th>\n",
       "    </tr>\n",
       "  </thead>\n",
       "  <tbody>\n",
       "    <tr>\n",
       "      <th>2713</th>\n",
       "      <td>4</td>\n",
       "    </tr>\n",
       "    <tr>\n",
       "      <th>11634</th>\n",
       "      <td>1</td>\n",
       "    </tr>\n",
       "    <tr>\n",
       "      <th>11970</th>\n",
       "      <td>2</td>\n",
       "    </tr>\n",
       "    <tr>\n",
       "      <th>7671</th>\n",
       "      <td>2</td>\n",
       "    </tr>\n",
       "    <tr>\n",
       "      <th>12881</th>\n",
       "      <td>4</td>\n",
       "    </tr>\n",
       "  </tbody>\n",
       "</table>\n",
       "</div>"
      ],
      "text/plain": [
       "       pet_category\n",
       "2713              4\n",
       "11634             1\n",
       "11970             2\n",
       "7671              2\n",
       "12881             4"
      ]
     },
     "execution_count": 39,
     "metadata": {},
     "output_type": "execute_result"
    }
   ],
   "source": [
    "train_x.head(5)\n",
    "test_y.head(5)"
   ]
  },
  {
   "cell_type": "markdown",
   "metadata": {},
   "source": [
    "## Naive Bayes"
   ]
  },
  {
   "cell_type": "code",
   "execution_count": 40,
   "metadata": {},
   "outputs": [
    {
     "name": "stdout",
     "output_type": "stream",
     "text": [
      "Confusion Matrix and Classification report for 'breed_category' column\n",
      "[[1966  446 1007  863]\n",
      " [ 725 1817 1539  193]\n",
      " [ 733  809 2597   69]\n",
      " [ 363  451  546 2870]]\n"
     ]
    },
    {
     "name": "stderr",
     "output_type": "stream",
     "text": [
      "C:\\Users\\User\\Anaconda3\\lib\\site-packages\\sklearn\\utils\\validation.py:73: DataConversionWarning: A column-vector y was passed when a 1d array was expected. Please change the shape of y to (n_samples, ), for example using ravel().\n",
      "  return f(**kwargs)\n",
      "C:\\Users\\User\\Anaconda3\\lib\\site-packages\\sklearn\\utils\\validation.py:73: DataConversionWarning: A column-vector y was passed when a 1d array was expected. Please change the shape of y to (n_samples, ), for example using ravel().\n",
      "  return f(**kwargs)\n"
     ]
    },
    {
     "name": "stdout",
     "output_type": "stream",
     "text": [
      "0.5443097563846063\n",
      "              precision    recall  f1-score   support\n",
      "\n",
      "           0       0.46      0.52      0.49      3787\n",
      "           1       0.43      0.52      0.47      3523\n",
      "           2       0.62      0.46      0.52      5689\n",
      "           4       0.68      0.72      0.70      3995\n",
      "\n",
      "    accuracy                           0.54     16994\n",
      "   macro avg       0.54      0.55      0.54     16994\n",
      "weighted avg       0.56      0.54      0.54     16994\n",
      "\n"
     ]
    }
   ],
   "source": [
    "from sklearn.naive_bayes import GaussianNB as GB\n",
    "model_GB=GB().fit(train_x,train_y)\n",
    "model_GB.fit(train_x,train_y)\n",
    "predict_GB = model_GB.predict(test_x)\n",
    "\n",
    "cm_GB=cm(test_y,predict_GB)\n",
    "print(\"Confusion Matrix and Classification report for 'breed_category' column\")\n",
    "print(cm_GB)\n",
    "print(acc(predict_GB,test_y))\n",
    "print(cr(predict_GB,test_y))"
   ]
  },
  {
   "cell_type": "markdown",
   "metadata": {},
   "source": [
    "# Linear SVM"
   ]
  },
  {
   "cell_type": "code",
   "execution_count": 41,
   "metadata": {},
   "outputs": [
    {
     "name": "stderr",
     "output_type": "stream",
     "text": [
      "C:\\Users\\User\\Anaconda3\\lib\\site-packages\\sklearn\\utils\\validation.py:73: DataConversionWarning: A column-vector y was passed when a 1d array was expected. Please change the shape of y to (n_samples, ), for example using ravel().\n",
      "  return f(**kwargs)\n"
     ]
    },
    {
     "name": "stdout",
     "output_type": "stream",
     "text": [
      "Confusion Matrix and Classification report for 'breed_category' column\n",
      "[[1966  446 1007  863]\n",
      " [ 725 1817 1539  193]\n",
      " [ 733  809 2597   69]\n",
      " [ 363  451  546 2870]]\n",
      "0.5025891491114511\n",
      "              precision    recall  f1-score   support\n",
      "\n",
      "           0       0.53      0.49      0.50      4634\n",
      "           1       0.15      0.43      0.22      1497\n",
      "           2       0.64      0.47      0.54      5714\n",
      "           4       0.70      0.57      0.63      5149\n",
      "\n",
      "    accuracy                           0.50     16994\n",
      "   macro avg       0.50      0.49      0.48     16994\n",
      "weighted avg       0.58      0.50      0.53     16994\n",
      "\n"
     ]
    }
   ],
   "source": [
    "from sklearn.svm import LinearSVC\n",
    "from sklearn.pipeline import make_pipeline\n",
    "from sklearn.preprocessing import StandardScaler\n",
    "model_SVC = make_pipeline(StandardScaler(),\n",
    "                     LinearSVC(random_state=0, tol=1e-5))\n",
    "model_SVC.fit(train_x,train_y)\n",
    "predict_SVC=model_SVC.predict(test_x)\n",
    "cm_SVC=cm(test_y,predict_SVC)\n",
    "print(\"Confusion Matrix and Classification report for 'breed_category' column\")\n",
    "print(cm_GB)\n",
    "print(acc(predict_SVC,test_y))\n",
    "print(cr(predict_SVC,test_y))"
   ]
  },
  {
   "cell_type": "markdown",
   "metadata": {},
   "source": [
    "# Decision Tree Classifier"
   ]
  },
  {
   "cell_type": "code",
   "execution_count": 42,
   "metadata": {},
   "outputs": [
    {
     "name": "stdout",
     "output_type": "stream",
     "text": [
      "Confusion Matrix and Classification report for 'breed_category' column\n",
      "[[4282    0    0    0]\n",
      " [   6 3854  371   43]\n",
      " [  15  652 3468   73]\n",
      " [   0    0    0 4230]]\n",
      "0.931740614334471\n",
      "              precision    recall  f1-score   support\n",
      "\n",
      "           0       1.00      1.00      1.00      4303\n",
      "           1       0.90      0.86      0.88      4506\n",
      "           2       0.82      0.90      0.86      3839\n",
      "           4       1.00      0.97      0.99      4346\n",
      "\n",
      "    accuracy                           0.93     16994\n",
      "   macro avg       0.93      0.93      0.93     16994\n",
      "weighted avg       0.93      0.93      0.93     16994\n",
      "\n"
     ]
    }
   ],
   "source": [
    "from sklearn.tree import DecisionTreeClassifier as dtc\n",
    "model_DTC=dtc(criterion='entropy',random_state=1).fit(train_x,train_y)\n",
    "model_DTC.fit(train_x,train_y)\n",
    "predict_DTC = model_DTC.predict(test_x)\n",
    "\n",
    "cm_DTC=cm(test_y,predict_DTC)\n",
    "print(\"Confusion Matrix and Classification report for 'breed_category' column\")\n",
    "print(cm_DTC)\n",
    "print(acc(predict_DTC,test_y))\n",
    "print(cr(predict_DTC,test_y))"
   ]
  },
  {
   "cell_type": "markdown",
   "metadata": {},
   "source": [
    "# Logistic Regression"
   ]
  },
  {
   "cell_type": "code",
   "execution_count": 43,
   "metadata": {},
   "outputs": [
    {
     "name": "stderr",
     "output_type": "stream",
     "text": [
      "C:\\Users\\User\\Anaconda3\\lib\\site-packages\\sklearn\\utils\\validation.py:73: DataConversionWarning: A column-vector y was passed when a 1d array was expected. Please change the shape of y to (n_samples, ), for example using ravel().\n",
      "  return f(**kwargs)\n"
     ]
    },
    {
     "name": "stdout",
     "output_type": "stream",
     "text": [
      "Confusion Matrix and Classification report for 'breed_category' column\n",
      "[[2158  391  816  917]\n",
      " [ 977 1395 1114  788]\n",
      " [ 812  900 2284  212]\n",
      " [ 395  393  540 2902]]\n",
      "0.514240320112981\n",
      "              precision    recall  f1-score   support\n",
      "\n",
      "           0       0.50      0.50      0.50      4342\n",
      "           1       0.33      0.45      0.38      3079\n",
      "           2       0.54      0.48      0.51      4754\n",
      "           4       0.69      0.60      0.64      4819\n",
      "\n",
      "    accuracy                           0.51     16994\n",
      "   macro avg       0.51      0.51      0.51     16994\n",
      "weighted avg       0.53      0.51      0.52     16994\n",
      "\n"
     ]
    },
    {
     "name": "stderr",
     "output_type": "stream",
     "text": [
      "C:\\Users\\User\\Anaconda3\\lib\\site-packages\\sklearn\\linear_model\\_logistic.py:762: ConvergenceWarning: lbfgs failed to converge (status=1):\n",
      "STOP: TOTAL NO. of ITERATIONS REACHED LIMIT.\n",
      "\n",
      "Increase the number of iterations (max_iter) or scale the data as shown in:\n",
      "    https://scikit-learn.org/stable/modules/preprocessing.html\n",
      "Please also refer to the documentation for alternative solver options:\n",
      "    https://scikit-learn.org/stable/modules/linear_model.html#logistic-regression\n",
      "  n_iter_i = _check_optimize_result(\n"
     ]
    }
   ],
   "source": [
    "from sklearn.linear_model import LogisticRegression as LG\n",
    "model_LG=LG().fit(train_x,train_y)\n",
    "predict_LG = model_LG.predict(test_x)\n",
    "\n",
    "cm_LG=cm(test_y,predict_LG)\n",
    "print(\"Confusion Matrix and Classification report for 'breed_category' column\")\n",
    "print(cm_LG)\n",
    "print(acc(predict_LG,test_y))\n",
    "print(cr(predict_LG,test_y))"
   ]
  },
  {
   "cell_type": "markdown",
   "metadata": {},
   "source": [
    "# Random Forest Classifier"
   ]
  },
  {
   "cell_type": "code",
   "execution_count": 44,
   "metadata": {},
   "outputs": [
    {
     "name": "stderr",
     "output_type": "stream",
     "text": [
      "<ipython-input-44-47c82098a1a8>:3: DataConversionWarning: A column-vector y was passed when a 1d array was expected. Please change the shape of y to (n_samples,), for example using ravel().\n",
      "  model_RFC.fit(train_x,train_y)\n"
     ]
    },
    {
     "name": "stdout",
     "output_type": "stream",
     "text": [
      "Confusion Matrix and Classification report for 'breed_category' column\n",
      "[[3894  107  104  177]\n",
      " [ 115 3101  996   62]\n",
      " [  92  727 3369   20]\n",
      " [ 406  321  390 3113]]\n",
      "0.7930446039778746\n",
      "              precision    recall  f1-score   support\n",
      "\n",
      "           0       0.91      0.86      0.89      4507\n",
      "           1       0.73      0.73      0.73      4256\n",
      "           2       0.80      0.69      0.74      4859\n",
      "           4       0.74      0.92      0.82      3372\n",
      "\n",
      "    accuracy                           0.79     16994\n",
      "   macro avg       0.79      0.80      0.79     16994\n",
      "weighted avg       0.80      0.79      0.79     16994\n",
      "\n"
     ]
    }
   ],
   "source": [
    "from sklearn.ensemble import RandomForestClassifier as RFC\n",
    "model_RFC = RFC(max_depth=6, random_state=0)\n",
    "model_RFC.fit(train_x,train_y)\n",
    "predict_RFC = model_RFC.predict(test_x)\n",
    "\n",
    "cm_RFC=cm(test_y,predict_RFC)\n",
    "print(\"Confusion Matrix and Classification report for 'breed_category' column\")\n",
    "print(cm_RFC)\n",
    "print(acc(predict_RFC,test_y))\n",
    "print(cr(predict_RFC,test_y))"
   ]
  },
  {
   "cell_type": "markdown",
   "metadata": {},
   "source": [
    "# Multi Layer Perception Classifier"
   ]
  },
  {
   "cell_type": "code",
   "execution_count": 45,
   "metadata": {},
   "outputs": [
    {
     "name": "stderr",
     "output_type": "stream",
     "text": [
      "C:\\Users\\User\\Anaconda3\\lib\\site-packages\\sklearn\\utils\\validation.py:73: DataConversionWarning: A column-vector y was passed when a 1d array was expected. Please change the shape of y to (n_samples, ), for example using ravel().\n",
      "  return f(**kwargs)\n"
     ]
    },
    {
     "name": "stdout",
     "output_type": "stream",
     "text": [
      "Confusion Matrix and Classification report for 'breed_category' column\n",
      "[[   0  386 2904  992]\n",
      " [   0 1676 2239  359]\n",
      " [   0  629 3445  134]\n",
      " [   0  352 1012 2866]]\n",
      "0.46998940802636224\n",
      "              precision    recall  f1-score   support\n",
      "\n",
      "           0       0.00      0.00      0.00         0\n",
      "           1       0.39      0.55      0.46      3043\n",
      "           2       0.82      0.36      0.50      9600\n",
      "           4       0.68      0.66      0.67      4351\n",
      "\n",
      "    accuracy                           0.47     16994\n",
      "   macro avg       0.47      0.39      0.41     16994\n",
      "weighted avg       0.71      0.47      0.53     16994\n",
      "\n"
     ]
    },
    {
     "name": "stderr",
     "output_type": "stream",
     "text": [
      "C:\\Users\\User\\Anaconda3\\lib\\site-packages\\sklearn\\metrics\\_classification.py:1221: UndefinedMetricWarning: Recall and F-score are ill-defined and being set to 0.0 in labels with no true samples. Use `zero_division` parameter to control this behavior.\n",
      "  _warn_prf(average, modifier, msg_start, len(result))\n"
     ]
    }
   ],
   "source": [
    "from sklearn.neural_network import MLPClassifier\n",
    "model_MLPC = MLPClassifier(solver='lbfgs', alpha=1e-5,hidden_layer_sizes=(5, 2), random_state=1)\n",
    "model_MLPC.fit(train_x,train_y)\n",
    "predict_MLPC = model_MLPC.predict(test_x)\n",
    "\n",
    "cm_MLPC=cm(test_y,predict_MLPC)\n",
    "print(\"Confusion Matrix and Classification report for 'breed_category' column\")\n",
    "print(cm_MLPC)\n",
    "print(acc(predict_MLPC,test_y))\n",
    "print(cr(predict_MLPC,test_y))"
   ]
  },
  {
   "cell_type": "markdown",
   "metadata": {},
   "source": [
    "# Decision Tree had the greatest accuracy and precision and oveerall F1 score"
   ]
  },
  {
   "cell_type": "markdown",
   "metadata": {},
   "source": [
    "# Column 2 prediction"
   ]
  },
  {
   "cell_type": "markdown",
   "metadata": {},
   "source": [
    "## Taking *predicted* lebel 1 ('pet_category') data to train the model and predict level 2 ('breed_category') output"
   ]
  },
  {
   "cell_type": "code",
   "execution_count": 46,
   "metadata": {},
   "outputs": [],
   "source": [
    "train_x_bkp['pet_category']=train_y_bkp['pet_category']\n",
    "train_y_bkp=train_y_bkp.drop(['pet_category'],axis=1)\n",
    "test_x_bkp['pet_category']=test_y_bkp['pet_category']\n",
    "test_y_bkp=test_y_bkp.drop(['pet_category'],axis=1)"
   ]
  },
  {
   "cell_type": "code",
   "execution_count": 47,
   "metadata": {},
   "outputs": [
    {
     "name": "stdout",
     "output_type": "stream",
     "text": [
      "Confusion Matrix and Classification report for 'breed_category' column\n",
      "[[5681  306    0]\n",
      " [ 319 4398    0]\n",
      " [   0    0 6290]]\n",
      "0.9632223137577969\n",
      "              precision    recall  f1-score   support\n",
      "\n",
      "         0.0       0.95      0.95      0.95      6000\n",
      "         1.0       0.93      0.93      0.93      4704\n",
      "         2.0       1.00      1.00      1.00      6290\n",
      "\n",
      "    accuracy                           0.96     16994\n",
      "   macro avg       0.96      0.96      0.96     16994\n",
      "weighted avg       0.96      0.96      0.96     16994\n",
      "\n"
     ]
    }
   ],
   "source": [
    "from sklearn.tree import DecisionTreeClassifier as dtc\n",
    "model_DTC=dtc(criterion='entropy',random_state=1).fit(train_x_bkp,train_y_bkp)\n",
    "model_DTC.fit(train_x_bkp,train_y_bkp)\n",
    "predict_DTC2 = model_DTC.predict(test_x_bkp)\n",
    "\n",
    "cm_DTC=cm(test_y_bkp,predict_DTC2)\n",
    "print(\"Confusion Matrix and Classification report for 'breed_category' column\")\n",
    "print(cm_DTC)\n",
    "print(acc(predict_DTC2,test_y_bkp))\n",
    "print(cr(predict_DTC2,test_y_bkp))"
   ]
  },
  {
   "cell_type": "code",
   "execution_count": 50,
   "metadata": {},
   "outputs": [
    {
     "name": "stdout",
     "output_type": "stream",
     "text": [
      "Actual accuracy from both output column:  90.56725903259975 %\n"
     ]
    }
   ],
   "source": [
    "cnt=0\n",
    "test1=test_y['pet_category'].tolist()\n",
    "test2=test_y_bkp['breed_category'].tolist()\n",
    "for i in range(len(test1)):\n",
    "    if(test1[i]==predict_DTC[i] and test2[i]==predict_DTC2[i]): cnt+=1\n",
    "print(\"Actual accuracy from both output column: \",(cnt/len(test1))*100,\"%\")"
   ]
  }
 ],
 "metadata": {
  "kernelspec": {
   "display_name": "Python 3",
   "language": "python",
   "name": "python3"
  },
  "language_info": {
   "codemirror_mode": {
    "name": "ipython",
    "version": 3
   },
   "file_extension": ".py",
   "mimetype": "text/x-python",
   "name": "python",
   "nbconvert_exporter": "python",
   "pygments_lexer": "ipython3",
   "version": "3.8.5"
  }
 },
 "nbformat": 4,
 "nbformat_minor": 2
}

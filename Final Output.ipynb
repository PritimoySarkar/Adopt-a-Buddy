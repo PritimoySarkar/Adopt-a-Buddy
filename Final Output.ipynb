{
 "cells": [
  {
   "cell_type": "code",
   "execution_count": 1,
   "metadata": {},
   "outputs": [],
   "source": [
    "import pandas as pd\n",
    "import numpy as np\n",
    "\n",
    "from sklearn.preprocessing import LabelEncoder as LE\n",
    "\n",
    "from sklearn.utils import resample as rs\n",
    "\n",
    "from sklearn.tree import DecisionTreeClassifier as dtc"
   ]
  },
  {
   "cell_type": "code",
   "execution_count": 2,
   "metadata": {},
   "outputs": [],
   "source": [
    "df=pd.read_csv('dataset/train.csv') #read train data\n",
    "df2=pd.read_csv('dataset/test.csv') #read test data\n",
    "bkp_out=df2.copy() #making backup copy of test data for creating final output file"
   ]
  },
  {
   "cell_type": "markdown",
   "metadata": {},
   "source": [
    "# Data Preprocessing"
   ]
  },
  {
   "cell_type": "code",
   "execution_count": 3,
   "metadata": {},
   "outputs": [],
   "source": [
    "df=df.drop(['pet_id','issue_date','listing_date'],axis=1) #redundent feature removal (from train data)\n",
    "df2=df2.drop(['pet_id','issue_date','listing_date'],axis=1) #redundent feature removal (from test data)\n",
    "\n",
    "df['color_type']=LE().fit_transform(df['color_type']) #Numeric Encoding\n",
    "df2['color_type']=LE().fit_transform(df2['color_type']) #Numeric Encoding\n",
    "\n",
    "df['condition'].fillna((df['condition'].mean()), inplace=True) #NaN Value treatment (in train data)\n",
    "df2['condition'].fillna((df2['condition'].mean()), inplace=True) #NaN Value treatment (in test data) [otherwise model prediction won't work properly]\n",
    "df['X1']=np.cbrt(df['X1']) #Skewness removal of required feature"
   ]
  },
  {
   "cell_type": "markdown",
   "metadata": {},
   "source": [
    "# Upsampling Data (removal of class imballance)"
   ]
  },
  {
   "cell_type": "code",
   "execution_count": 4,
   "metadata": {},
   "outputs": [
    {
     "data": {
      "text/plain": [
       "4    10621\n",
       "2    10621\n",
       "1    10621\n",
       "0    10621\n",
       "Name: pet_category, dtype: int64"
      ]
     },
     "execution_count": 4,
     "metadata": {},
     "output_type": "execute_result"
    }
   ],
   "source": [
    "df['balance'] = [1 if ((i==0) or (i==1) or (i==2)) else 0 for i in df.pet_category]\n",
    "#print(df['balance'].value_counts())\n",
    "major=df[df.balance==1]\n",
    "minor=df[df.balance==0]\n",
    "df=rs(minor,replace=True,n_samples=10621,random_state=1)\n",
    "df=pd.concat([df,major])\n",
    "df['pet_category'].value_counts()\n",
    "\n",
    "\n",
    "df['balance'] = [1 if ((i==1) or (i==2) or (i==4)) else 0 for i in df.pet_category]\n",
    "#print(df['balance'].value_counts())\n",
    "major=df[df.balance==1]\n",
    "minor=df[df.balance==0]\n",
    "df=rs(minor,replace=True,n_samples=10621,random_state=1)\n",
    "df=pd.concat([df,major])\n",
    "df['pet_category'].value_counts()\n",
    "\n",
    "df['balance'] = [1 if ((i==0) or (i==2) or (i==4)) else 0 for i in df.pet_category]\n",
    "#print(df['balance'].value_counts())\n",
    "major=df[df.balance==1]\n",
    "minor=df[df.balance==0]\n",
    "df=rs(minor,replace=True,n_samples=10621,random_state=1)\n",
    "df=pd.concat([df,major])\n",
    "df['pet_category'].value_counts()"
   ]
  },
  {
   "cell_type": "code",
   "execution_count": 5,
   "metadata": {},
   "outputs": [],
   "source": [
    "x_in=df.drop(['pet_category','breed_category','balance'],axis=1) \n",
    "y_in=df['pet_category']\n",
    "x_out=df2"
   ]
  },
  {
   "cell_type": "markdown",
   "metadata": {},
   "source": [
    "> # Model Building (Decision Tree CLassifier as it gave the best result in our case) \n",
    ">> ## Check details roughwork file for more details"
   ]
  },
  {
   "cell_type": "markdown",
   "metadata": {},
   "source": [
    "### Model to predict Pet Category"
   ]
  },
  {
   "cell_type": "code",
   "execution_count": 6,
   "metadata": {},
   "outputs": [],
   "source": [
    "model=dtc(criterion='entropy',random_state=1).fit(x_in,y_in) #creating Decision Tree Classifier object and fitting features and label\n",
    "prediction_pet_catg=model.predict(x_out) #making prediction"
   ]
  },
  {
   "cell_type": "markdown",
   "metadata": {},
   "source": [
    "### Model to predict breed Category (taking pet catagory predicted value as input for better result)"
   ]
  },
  {
   "cell_type": "code",
   "execution_count": 7,
   "metadata": {},
   "outputs": [],
   "source": [
    "x_in2=df.drop(['breed_category','balance'],axis=1)\n",
    "y_in2=df['breed_category']\n",
    "x_out2=x_out.copy()\n",
    "x_out2['pet_category']=prediction_pet_catg\n",
    "\n",
    "model=dtc(criterion='entropy',random_state=1).fit(x_in2,y_in2) #creating Decision Tree Classifier object and fitting features and label\n",
    "prediction_breed_catg=model.predict(x_out2) #making prediction"
   ]
  },
  {
   "cell_type": "code",
   "execution_count": 8,
   "metadata": {
    "scrolled": true
   },
   "outputs": [
    {
     "data": {
      "text/html": [
       "<div>\n",
       "<style scoped>\n",
       "    .dataframe tbody tr th:only-of-type {\n",
       "        vertical-align: middle;\n",
       "    }\n",
       "\n",
       "    .dataframe tbody tr th {\n",
       "        vertical-align: top;\n",
       "    }\n",
       "\n",
       "    .dataframe thead th {\n",
       "        text-align: right;\n",
       "    }\n",
       "</style>\n",
       "<table border=\"1\" class=\"dataframe\">\n",
       "  <thead>\n",
       "    <tr style=\"text-align: right;\">\n",
       "      <th></th>\n",
       "      <th>pet_id</th>\n",
       "      <th>issue_date</th>\n",
       "      <th>listing_date</th>\n",
       "      <th>condition</th>\n",
       "      <th>color_type</th>\n",
       "      <th>length(m)</th>\n",
       "      <th>height(cm)</th>\n",
       "      <th>X1</th>\n",
       "      <th>X2</th>\n",
       "      <th>pet_category</th>\n",
       "      <th>breed_category</th>\n",
       "    </tr>\n",
       "  </thead>\n",
       "  <tbody>\n",
       "    <tr>\n",
       "      <th>0</th>\n",
       "      <td>ANSL_75005</td>\n",
       "      <td>2005-08-17 00:00:00</td>\n",
       "      <td>2017-09-07 15:35:00</td>\n",
       "      <td>0.0</td>\n",
       "      <td>Black</td>\n",
       "      <td>0.87</td>\n",
       "      <td>42.73</td>\n",
       "      <td>0</td>\n",
       "      <td>7</td>\n",
       "      <td>2</td>\n",
       "      <td>1.0</td>\n",
       "    </tr>\n",
       "    <tr>\n",
       "      <th>1</th>\n",
       "      <td>ANSL_76663</td>\n",
       "      <td>2018-11-15 00:00:00</td>\n",
       "      <td>2019-05-08 17:24:00</td>\n",
       "      <td>1.0</td>\n",
       "      <td>Orange Tabby</td>\n",
       "      <td>0.06</td>\n",
       "      <td>6.71</td>\n",
       "      <td>0</td>\n",
       "      <td>1</td>\n",
       "      <td>1</td>\n",
       "      <td>0.0</td>\n",
       "    </tr>\n",
       "    <tr>\n",
       "      <th>2</th>\n",
       "      <td>ANSL_58259</td>\n",
       "      <td>2012-10-11 00:00:00</td>\n",
       "      <td>2018-04-02 16:51:00</td>\n",
       "      <td>1.0</td>\n",
       "      <td>Black</td>\n",
       "      <td>0.24</td>\n",
       "      <td>41.21</td>\n",
       "      <td>0</td>\n",
       "      <td>7</td>\n",
       "      <td>2</td>\n",
       "      <td>0.0</td>\n",
       "    </tr>\n",
       "    <tr>\n",
       "      <th>3</th>\n",
       "      <td>ANSL_67171</td>\n",
       "      <td>2015-02-13 00:00:00</td>\n",
       "      <td>2018-04-06 07:25:00</td>\n",
       "      <td>1.0</td>\n",
       "      <td>Black</td>\n",
       "      <td>0.29</td>\n",
       "      <td>8.46</td>\n",
       "      <td>7</td>\n",
       "      <td>1</td>\n",
       "      <td>2</td>\n",
       "      <td>0.0</td>\n",
       "    </tr>\n",
       "    <tr>\n",
       "      <th>4</th>\n",
       "      <td>ANSL_72871</td>\n",
       "      <td>2017-01-18 00:00:00</td>\n",
       "      <td>2018-04-26 13:42:00</td>\n",
       "      <td>1.0</td>\n",
       "      <td>Brown</td>\n",
       "      <td>0.71</td>\n",
       "      <td>30.92</td>\n",
       "      <td>0</td>\n",
       "      <td>7</td>\n",
       "      <td>2</td>\n",
       "      <td>0.0</td>\n",
       "    </tr>\n",
       "  </tbody>\n",
       "</table>\n",
       "</div>"
      ],
      "text/plain": [
       "       pet_id           issue_date         listing_date  condition  \\\n",
       "0  ANSL_75005  2005-08-17 00:00:00  2017-09-07 15:35:00        0.0   \n",
       "1  ANSL_76663  2018-11-15 00:00:00  2019-05-08 17:24:00        1.0   \n",
       "2  ANSL_58259  2012-10-11 00:00:00  2018-04-02 16:51:00        1.0   \n",
       "3  ANSL_67171  2015-02-13 00:00:00  2018-04-06 07:25:00        1.0   \n",
       "4  ANSL_72871  2017-01-18 00:00:00  2018-04-26 13:42:00        1.0   \n",
       "\n",
       "     color_type  length(m)  height(cm)  X1  X2  pet_category  breed_category  \n",
       "0         Black       0.87       42.73   0   7             2             1.0  \n",
       "1  Orange Tabby       0.06        6.71   0   1             1             0.0  \n",
       "2         Black       0.24       41.21   0   7             2             0.0  \n",
       "3         Black       0.29        8.46   7   1             2             0.0  \n",
       "4         Brown       0.71       30.92   0   7             2             0.0  "
      ]
     },
     "execution_count": 8,
     "metadata": {},
     "output_type": "execute_result"
    }
   ],
   "source": [
    "output_df=bkp_out.copy() #creating output data by combining test data and corresponding output\n",
    "output_df['pet_category']=prediction_pet_catg #Output label 1\n",
    "output_df['breed_category']=prediction_breed_catg #Output label 2\n",
    "\n",
    "output_df.head(5) #print test data with output (first 5 instances)"
   ]
  },
  {
   "cell_type": "code",
   "execution_count": 9,
   "metadata": {},
   "outputs": [],
   "source": [
    "output_df.to_csv('Output file All Feature.csv',index=False) #Creating a output .csv file named Output 'file.csv' containing all input feature of test data and both output label"
   ]
  },
  {
   "cell_type": "code",
   "execution_count": 10,
   "metadata": {},
   "outputs": [],
   "source": [
    "df_out=output_df.copy()\n",
    "df_out=df_out.drop(['issue_date','listing_date','condition','color_type','length(m)','height(cm)','X1','X2','pet_category'],axis=1)\n",
    "df_out['pet_category']=output_df['pet_category']"
   ]
  },
  {
   "cell_type": "code",
   "execution_count": 11,
   "metadata": {},
   "outputs": [],
   "source": [
    "df_out.head(5)\n",
    "df_out.to_csv('Output file.csv',index=False)"
   ]
  }
 ],
 "metadata": {
  "kernelspec": {
   "display_name": "Python 3",
   "language": "python",
   "name": "python3"
  },
  "language_info": {
   "codemirror_mode": {
    "name": "ipython",
    "version": 3
   },
   "file_extension": ".py",
   "mimetype": "text/x-python",
   "name": "python",
   "nbconvert_exporter": "python",
   "pygments_lexer": "ipython3",
   "version": "3.8.5"
  }
 },
 "nbformat": 4,
 "nbformat_minor": 4
}
